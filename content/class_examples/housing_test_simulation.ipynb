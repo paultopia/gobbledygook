{
 "cells": [
  {
   "cell_type": "markdown",
   "metadata": {},
   "source": [
    "- title: Hypothesis Tests on Experimental Data: Housing Discrimination Test Example\n",
    "- tags: hypothesis_tests, statistics, discrimination, week7\n",
    "- date: 2019-02-24"
   ]
  },
  {
   "cell_type": "code",
   "execution_count": 1,
   "metadata": {},
   "outputs": [],
   "source": [
    "import warnings\n",
    "warnings.filterwarnings(\"ignore\")\n",
    "import pandas as pd\n",
    "import numpy as np\n",
    "from scipy import stats\n",
    "np.random.seed(10)"
   ]
  },
  {
   "cell_type": "markdown",
   "metadata": {},
   "source": [
    "Let's simulate some housing discrimination tester data.  Suppose a testing organization hired 20 white people and 20 black people, trained them to behave identically and give identical answers to landlord questions, and sent them into a large housing complex to inquire about one-bedroom apartments.  The testers were instructed to ask how much rent is on one-bedrooms in the complex, but not to ask for an application---and then to record how much they were quoted, and whether they were offered an application anyway. \n",
    "\n",
    "We'll assume that whether they're offered an application is a bernouli variable, i.e., a coin flip, and that the rent they're quoted is normally distributed. We'll simulate some racist data, i.e., where the probability that black people get offered an application is lower, and the mean rent is higher. "
   ]
  },
  {
   "cell_type": "code",
   "execution_count": 2,
   "metadata": {},
   "outputs": [],
   "source": [
    "def generate_test(race, mean_rent, prob_application):\n",
    "    rent_charged = np.trunc(stats.norm.rvs(loc=mean_rent, scale=20, size=1))\n",
    "    application_offered = stats.bernoulli.rvs(p=prob_application, size=1)\n",
    "    return {\"race\": race, \"rent\": rent_charged[0], \"application\": application_offered[0]}\n",
    "testers = []\n",
    "for white_tester in range(20):\n",
    "    testers.append(generate_test(\"white\", 500, 0.7))\n",
    "for black_tester in range(20):\n",
    "    testers.append(generate_test(\"black\", 550, 0.4))"
   ]
  },
  {
   "cell_type": "code",
   "execution_count": 3,
   "metadata": {},
   "outputs": [
    {
     "data": {
      "text/plain": [
       "[{'race': 'white', 'rent': 526.0, 'application': 1},\n",
       " {'race': 'white', 'rent': 514.0, 'application': 1},\n",
       " {'race': 'white', 'rent': 512.0, 'application': 1},\n",
       " {'race': 'white', 'rent': 485.0, 'application': 1},\n",
       " {'race': 'white', 'rent': 505.0, 'application': 1},\n",
       " {'race': 'white', 'rent': 502.0, 'application': 1},\n",
       " {'race': 'white', 'rent': 508.0, 'application': 0},\n",
       " {'race': 'white', 'rent': 524.0, 'application': 1},\n",
       " {'race': 'white', 'rent': 504.0, 'application': 1},\n",
       " {'race': 'white', 'rent': 508.0, 'application': 1},\n",
       " {'race': 'white', 'rent': 529.0, 'application': 1},\n",
       " {'race': 'white', 'rent': 478.0, 'application': 1},\n",
       " {'race': 'white', 'rent': 505.0, 'application': 1},\n",
       " {'race': 'white', 'rent': 547.0, 'application': 1},\n",
       " {'race': 'white', 'rent': 501.0, 'application': 0},\n",
       " {'race': 'white', 'rent': 527.0, 'application': 1},\n",
       " {'race': 'white', 'rent': 494.0, 'application': 1},\n",
       " {'race': 'white', 'rent': 489.0, 'application': 0},\n",
       " {'race': 'white', 'rent': 502.0, 'application': 1},\n",
       " {'race': 'white', 'rent': 490.0, 'application': 0},\n",
       " {'race': 'black', 'rent': 558.0, 'application': 0},\n",
       " {'race': 'black', 'rent': 543.0, 'application': 1},\n",
       " {'race': 'black', 'rent': 563.0, 'application': 0},\n",
       " {'race': 'black', 'rent': 542.0, 'application': 0},\n",
       " {'race': 'black', 'rent': 533.0, 'application': 1},\n",
       " {'race': 'black', 'rent': 545.0, 'application': 0},\n",
       " {'race': 'black', 'rent': 561.0, 'application': 1},\n",
       " {'race': 'black', 'rent': 547.0, 'application': 0},\n",
       " {'race': 'black', 'rent': 539.0, 'application': 0},\n",
       " {'race': 'black', 'rent': 564.0, 'application': 1},\n",
       " {'race': 'black', 'rent': 597.0, 'application': 0},\n",
       " {'race': 'black', 'rent': 568.0, 'application': 0},\n",
       " {'race': 'black', 'rent': 545.0, 'application': 0},\n",
       " {'race': 'black', 'rent': 539.0, 'application': 1},\n",
       " {'race': 'black', 'rent': 548.0, 'application': 0},\n",
       " {'race': 'black', 'rent': 539.0, 'application': 1},\n",
       " {'race': 'black', 'rent': 542.0, 'application': 1},\n",
       " {'race': 'black', 'rent': 547.0, 'application': 1},\n",
       " {'race': 'black', 'rent': 545.0, 'application': 1},\n",
       " {'race': 'black', 'rent': 569.0, 'application': 0}]"
      ]
     },
     "execution_count": 3,
     "metadata": {},
     "output_type": "execute_result"
    }
   ],
   "source": [
    "testers"
   ]
  },
  {
   "cell_type": "code",
   "execution_count": 4,
   "metadata": {},
   "outputs": [],
   "source": [
    "df = pd.DataFrame(testers)"
   ]
  },
  {
   "cell_type": "code",
   "execution_count": 5,
   "metadata": {},
   "outputs": [
    {
     "data": {
      "text/html": [
       "<div>\n",
       "<style scoped>\n",
       "    .dataframe tbody tr th:only-of-type {\n",
       "        vertical-align: middle;\n",
       "    }\n",
       "\n",
       "    .dataframe tbody tr th {\n",
       "        vertical-align: top;\n",
       "    }\n",
       "\n",
       "    .dataframe thead th {\n",
       "        text-align: right;\n",
       "    }\n",
       "</style>\n",
       "<table border=\"1\" class=\"dataframe\">\n",
       "  <thead>\n",
       "    <tr style=\"text-align: right;\">\n",
       "      <th></th>\n",
       "      <th>application</th>\n",
       "      <th>race</th>\n",
       "      <th>rent</th>\n",
       "    </tr>\n",
       "  </thead>\n",
       "  <tbody>\n",
       "    <tr>\n",
       "      <th>0</th>\n",
       "      <td>1</td>\n",
       "      <td>white</td>\n",
       "      <td>526.0</td>\n",
       "    </tr>\n",
       "    <tr>\n",
       "      <th>1</th>\n",
       "      <td>1</td>\n",
       "      <td>white</td>\n",
       "      <td>514.0</td>\n",
       "    </tr>\n",
       "    <tr>\n",
       "      <th>2</th>\n",
       "      <td>1</td>\n",
       "      <td>white</td>\n",
       "      <td>512.0</td>\n",
       "    </tr>\n",
       "    <tr>\n",
       "      <th>3</th>\n",
       "      <td>1</td>\n",
       "      <td>white</td>\n",
       "      <td>485.0</td>\n",
       "    </tr>\n",
       "    <tr>\n",
       "      <th>4</th>\n",
       "      <td>1</td>\n",
       "      <td>white</td>\n",
       "      <td>505.0</td>\n",
       "    </tr>\n",
       "  </tbody>\n",
       "</table>\n",
       "</div>"
      ],
      "text/plain": [
       "   application   race   rent\n",
       "0            1  white  526.0\n",
       "1            1  white  514.0\n",
       "2            1  white  512.0\n",
       "3            1  white  485.0\n",
       "4            1  white  505.0"
      ]
     },
     "execution_count": 5,
     "metadata": {},
     "output_type": "execute_result"
    }
   ],
   "source": [
    "df.head()"
   ]
  },
  {
   "cell_type": "code",
   "execution_count": 6,
   "metadata": {},
   "outputs": [
    {
     "data": {
      "text/html": [
       "<div>\n",
       "<style scoped>\n",
       "    .dataframe tbody tr th:only-of-type {\n",
       "        vertical-align: middle;\n",
       "    }\n",
       "\n",
       "    .dataframe tbody tr th {\n",
       "        vertical-align: top;\n",
       "    }\n",
       "\n",
       "    .dataframe thead th {\n",
       "        text-align: right;\n",
       "    }\n",
       "</style>\n",
       "<table border=\"1\" class=\"dataframe\">\n",
       "  <thead>\n",
       "    <tr style=\"text-align: right;\">\n",
       "      <th></th>\n",
       "      <th>application</th>\n",
       "      <th>rent</th>\n",
       "    </tr>\n",
       "  </thead>\n",
       "  <tbody>\n",
       "    <tr>\n",
       "      <th>count</th>\n",
       "      <td>40.00000</td>\n",
       "      <td>40.000000</td>\n",
       "    </tr>\n",
       "    <tr>\n",
       "      <th>mean</th>\n",
       "      <td>0.62500</td>\n",
       "      <td>529.600000</td>\n",
       "    </tr>\n",
       "    <tr>\n",
       "      <th>std</th>\n",
       "      <td>0.49029</td>\n",
       "      <td>27.392494</td>\n",
       "    </tr>\n",
       "    <tr>\n",
       "      <th>min</th>\n",
       "      <td>0.00000</td>\n",
       "      <td>478.000000</td>\n",
       "    </tr>\n",
       "    <tr>\n",
       "      <th>25%</th>\n",
       "      <td>0.00000</td>\n",
       "      <td>505.000000</td>\n",
       "    </tr>\n",
       "    <tr>\n",
       "      <th>50%</th>\n",
       "      <td>1.00000</td>\n",
       "      <td>536.000000</td>\n",
       "    </tr>\n",
       "    <tr>\n",
       "      <th>75%</th>\n",
       "      <td>1.00000</td>\n",
       "      <td>547.000000</td>\n",
       "    </tr>\n",
       "    <tr>\n",
       "      <th>max</th>\n",
       "      <td>1.00000</td>\n",
       "      <td>597.000000</td>\n",
       "    </tr>\n",
       "  </tbody>\n",
       "</table>\n",
       "</div>"
      ],
      "text/plain": [
       "       application        rent\n",
       "count     40.00000   40.000000\n",
       "mean       0.62500  529.600000\n",
       "std        0.49029   27.392494\n",
       "min        0.00000  478.000000\n",
       "25%        0.00000  505.000000\n",
       "50%        1.00000  536.000000\n",
       "75%        1.00000  547.000000\n",
       "max        1.00000  597.000000"
      ]
     },
     "execution_count": 6,
     "metadata": {},
     "output_type": "execute_result"
    }
   ],
   "source": [
    "df.describe()"
   ]
  },
  {
   "cell_type": "markdown",
   "metadata": {},
   "source": [
    "The first thing we'll do is a simple t-test for difference of means here.  The data isn't paired (i.e., in our hypothetical research design, the housing organization didn't send two people who were matched on other characteristics, one white and one black, in to test.) so we can use the independent t-test. "
   ]
  },
  {
   "cell_type": "code",
   "execution_count": 7,
   "metadata": {},
   "outputs": [],
   "source": [
    "t, p = stats.ttest_ind(df[df.race == \"white\"].rent, df[df.race == \"black\"].rent)"
   ]
  },
  {
   "cell_type": "code",
   "execution_count": 8,
   "metadata": {},
   "outputs": [
    {
     "name": "stdout",
     "output_type": "stream",
     "text": [
      "1.26829227017898e-10\n"
     ]
    }
   ],
   "source": [
    "print(p)"
   ]
  },
  {
   "cell_type": "code",
   "execution_count": 9,
   "metadata": {},
   "outputs": [
    {
     "name": "stdout",
     "output_type": "stream",
     "text": [
      "-8.736151260346574\n"
     ]
    }
   ],
   "source": [
    "print(t)"
   ]
  },
  {
   "cell_type": "markdown",
   "metadata": {},
   "source": [
    "It looks like we can reject the null hypothesis that white and black rents are the same. How about offering applications?  There, we have a binary categorical variable, so we should go for something like a chi-squared test. \n",
    "\n",
    "I actually brushed over some complexities in the chi-squared test in the catalogue of hypothesis tests lesson.  There are three different flavors of the chi-squared test: a test for independence, for homogeneity, and for goodness of fit. The goodness-of-fit one is for testing whether a set of categorial data came from a hypothesis discrete distribution. We don't need that here.  \n",
    "\n",
    "The difference between the test for independence and the test for homogeneity is a bit subtle.  The most common explanation of the difference is that the test for independence is for research designs where you collect two observations for each member of the sample (i.e., their race and whether they were offered an application); whereas the test for homogeneity is for research designs where you sample the subpopulations separately, i.e., sample a bunch of white people and a bunch of black people and then observe who got an application.  [Here's a good explanation](http://inspire.stat.ucla.edu/unit_13/) of the flavors of chi-squared tests.\n",
    "\n",
    "The good thing is that, mathematically, the tests of independence and homogeneity are the same, the only difference is in interpretation.  So we can use what we've already learned. "
    "\n",
    "What you are about to see is a pandas tool called a crosstab. You can use a pandas crosstab to compute a simple cross-tabulation of two (or more) factors. By default, it computes a frequency table of the factors unless an array of values and an aggregation function are passed. You can think of crosstabs as functioning similarly to the groupby and pivottable functions. With so many to choose from in Pandas, why would you want to use the crosstab function over another? The crosstab function works on numpy arrays or columns in a dataframe. Crosstabs are simple and the API is easier than with pivottables. They are also quite useful for some of the types of statistical analysis we will be doing in this class, because of how the crosstab formats the resulting data. Like most things in python, there's so much more you can do with crosstabs than is shown below. (Check out this site for a great explanation and a fun application of the crosstab function: https://pbpython.com/pandas-crosstab.html) For now, a simple way to remember how to use crosstab is with the following formula: pd.crosstab(df.variable1, df.variable2)."

   ]
  },
  {
   "cell_type": "code",
   "execution_count": 10,
   "metadata": {},
   "outputs": [],
   "source": [
    "crosstab = pd.crosstab(df[\"race\"], df[\"application\"])"
   ]
  },
  {
   "cell_type": "code",
   "execution_count": 11,
   "metadata": {},
   "outputs": [
    {
     "data": {
      "text/html": [
       "<div>\n",
       "<style scoped>\n",
       "    .dataframe tbody tr th:only-of-type {\n",
       "        vertical-align: middle;\n",
       "    }\n",
       "\n",
       "    .dataframe tbody tr th {\n",
       "        vertical-align: top;\n",
       "    }\n",
       "\n",
       "    .dataframe thead th {\n",
       "        text-align: right;\n",
       "    }\n",
       "</style>\n",
       "<table border=\"1\" class=\"dataframe\">\n",
       "  <thead>\n",
       "    <tr style=\"text-align: right;\">\n",
       "      <th>application</th>\n",
       "      <th>0</th>\n",
       "      <th>1</th>\n",
       "    </tr>\n",
       "    <tr>\n",
       "      <th>race</th>\n",
       "      <th></th>\n",
       "      <th></th>\n",
       "    </tr>\n",
       "  </thead>\n",
       "  <tbody>\n",
       "    <tr>\n",
       "      <th>black</th>\n",
       "      <td>11</td>\n",
       "      <td>9</td>\n",
       "    </tr>\n",
       "    <tr>\n",
       "      <th>white</th>\n",
       "      <td>4</td>\n",
       "      <td>16</td>\n",
       "    </tr>\n",
       "  </tbody>\n",
       "</table>\n",
       "</div>"
      ],
      "text/plain": [
       "application   0   1\n",
       "race               \n",
       "black        11   9\n",
       "white         4  16"
      ]
     },
     "execution_count": 11,
     "metadata": {},
     "output_type": "execute_result"
    }
   ],
   "source": [
    "crosstab"
   ]
  },
  {
   "cell_type": "code",
   "execution_count": 12,
   "metadata": {},
   "outputs": [],
   "source": [
    "chi2, p, dof, expected = stats.chi2_contingency(crosstab)"
   ]
  },
  {
   "cell_type": "code",
   "execution_count": 13,
   "metadata": {},
   "outputs": [
    {
     "name": "stdout",
     "output_type": "stream",
     "text": [
      "0.05004352124870519\n"
     ]
    }
   ],
   "source": [
    "print(p)"
   ]
  },
  {
   "cell_type": "markdown",
   "metadata": {},
   "source": [
    "It looks like we can't quite reject (at the standard 0.05 level) the null hypothesis that white and black folks are given applications similarly---which should suggest something to our testing organization about maybe having picked a research design with a bigger sample size, since the differences look pretty stark in the crosstab. \n",
    "\n",
    "But, of course, Fisher's exact test is also available to us, so let's do one more test just to see what we get.  (In scientific context, you should really precommit to the tests you'll carry out before doing so, since, let's recall, that if you look at the data a bunch of times, you might get significant results just by chance.  So what I'm about to do is technically *a bit dirty* and I really should have just done this first.)"
   ]
  },
  {
   "cell_type": "code",
   "execution_count": 14,
   "metadata": {},
   "outputs": [],
   "source": [
    "oddsratio, p = stats.fisher_exact(crosstab)"
   ]
  },
  {
   "cell_type": "code",
   "execution_count": 15,
   "metadata": {},
   "outputs": [
    {
     "name": "stdout",
     "output_type": "stream",
     "text": [
      "0.04837206505727086\n"
     ]
    }
   ],
   "source": [
    "print(p)"
   ]
  },
  {
   "cell_type": "markdown",
   "metadata": {},
   "source": [
    "Oh look, I managed to torture a significant result out of the data.  See above as to why this is cheating.  But also, probably reach for Fisher's exact test first.  Also, we could have gone for a z test of independence of proportions---google it if you're curious."
   ]
  },
  {
   "cell_type": "markdown",
   "metadata": {},
   "source": [
    "## Paired data\n",
    "\n",
    "The hypothetical test I described doesn't quite match the examples given in many of our housing discrimination cases. Often, these organizations use paired/matched testers instead. That is, they send one black person and one white person close together in time, and where they match on everything else that might be relevant to the landlord (income, number of pets, general personality and good looks, etc.) \n",
    "\n",
    "This violates one of the assumptions of both the standard t-test and the chi-squared/fisher tests, namely that the samples are independent.  But we have tests for this purpose too, including the paired t-test and McNemar's test.  (I didn't cover McNemar's test in the catalogue of hypothesis tests, but it's the equivalent of the chi-squared test for paired data.)  I'll also break out the Wilcoxon signed-rank test, discussed at the end of the catalogue of hypothesis tests, just because I can.\n",
    "\n",
    "Rather than simulate new data, let's just change the assumption of our implicit data.  Let's assume they were paired, and that the pairings correspond to equivalent positions in the subsets of the DataFrame we already have (i.e., that the first white person was paired with the first black person, and so forth).  "
   ]
  },
  {
   "cell_type": "code",
   "execution_count": 16,
   "metadata": {},
   "outputs": [],
   "source": [
    "t, p = stats.ttest_rel(df[df.race == \"white\"].rent, df[df.race == \"black\"].rent)"
   ]
  },
  {
   "cell_type": "code",
   "execution_count": 17,
   "metadata": {},
   "outputs": [
    {
     "name": "stdout",
     "output_type": "stream",
     "text": [
      "3.608791002314423e-08\n"
     ]
    }
   ],
   "source": [
    "print(p)"
   ]
  },
  {
   "cell_type": "markdown",
   "metadata": {},
   "source": [
    "Mcnemar's test is [buried in statsmodels](https://www.statsmodels.org/stable/generated/statsmodels.stats.contingency_tables.mcnemar.html), and it has a really obnoxious API that doesn't take Pandas dataframes, and returns some idiotic object called a \"bunch.\"  It's very annoying.  But we can work with it.\n",
    "\n",
    "(Note: if you actually find yourself doing this kind of research on a regular basis, I'd probably recommend switching from Python to R; as a language it's better suited to this kind of bread-and-butter statistics, although less well-suited to lots of the other stuff we do in this class.  Once you understand Python, it's pretty easy to learn R.)"
   ]
  },
  {
   "cell_type": "code",
   "execution_count": 18,
   "metadata": {},
   "outputs": [
    {
     "name": "stdout",
     "output_type": "stream",
     "text": [
      "pvalue      0.26684570312499983\n",
      "statistic   4.0\n"
     ]
    }
   ],
   "source": [
    "from statsmodels.stats.contingency_tables import mcnemar \n",
    "print(mcnemar(np.array(crosstab)))"
   ]
  },
  {
   "cell_type": "code",
   "execution_count": 19,
   "metadata": {},
   "outputs": [],
   "source": [
    "statistic, p = stats.wilcoxon(df[df.race == \"white\"].rent, df[df.race == \"black\"].rent)"
   ]
  },
  {
   "cell_type": "code",
   "execution_count": 20,
   "metadata": {},
   "outputs": [
    {
     "name": "stdout",
     "output_type": "stream",
     "text": [
      "0.0001032027839634719\n"
     ]
    }
   ],
   "source": [
    "print(p)"
   ]
  },
  {
   "cell_type": "markdown",
   "metadata": {},
   "source": [
    "Again we see that we have more convincing evidence for a difference in rents than for a difference in application-offering rates.  Looks good enough to file suit to me...\n",
    "\n",
    "Now I'm going to save this dataset, so I can make you figure out how to work with it in class! "
   ]
  },
  {
   "cell_type": "code",
   "execution_count": 21,
   "metadata": {},
   "outputs": [],
   "source": [
    "df.to_csv(\"simulated_housing_test.csv\", index=False)"
   ]
  }
 ],
 "metadata": {
  "kernelspec": {
   "display_name": "library_gobbledygook",
   "language": "python",
   "name": "library_gobbledygook"
  },
  "language_info": {
   "codemirror_mode": {
    "name": "ipython",
    "version": 3
   },
   "file_extension": ".py",
   "mimetype": "text/x-python",
   "name": "python",
   "nbconvert_exporter": "python",
   "pygments_lexer": "ipython3",
   "version": "3.6.7"
  }
 },
 "nbformat": 4,
 "nbformat_minor": 2
}
